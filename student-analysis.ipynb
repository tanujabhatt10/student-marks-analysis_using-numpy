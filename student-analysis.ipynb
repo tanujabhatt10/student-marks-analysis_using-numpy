{
 "cells": [
  {
   "cell_type": "code",
   "execution_count": null,
   "id": "376ba843",
   "metadata": {},
   "outputs": [],
   "source": [
    "import numpy as np"
   ]
  },
  {
   "cell_type": "code",
   "execution_count": null,
   "id": "aed21e0c",
   "metadata": {},
   "outputs": [],
   "source": [
    "marks = np.array([\n",
    "    [78, 85, 90, 95],   # Student 1\n",
    "    [88, 72, 80, 89],   # Student 2\n",
    "    [92, 90, 85, 87],   # Student 3\n",
    "    [70, 65, 75, 80],   # Student 4\n",
    "    [95, 98, 100, 97]   # Student 5\n",
    "])\n",
    "print(\"Marks Array:\\n\", marks)\n"
   ]
  },
  {
   "cell_type": "code",
   "execution_count": null,
   "id": "a0b22e53",
   "metadata": {},
   "outputs": [],
   "source": [
    "total_marks = marks.sum(axis=1)\n",
    "print(\"\\nTotal marks of each student:\", total_marks)"
   ]
  },
  {
   "cell_type": "code",
   "execution_count": null,
   "id": "06f3abe1",
   "metadata": {},
   "outputs": [],
   "source": [
    "avg_subject = marks.mean(axis=0)\n",
    "print(\"\\nAverage marks of each subject:\", avg_subject)"
   ]
  },
  {
   "cell_type": "code",
   "execution_count": null,
   "id": "2fe0ab1e",
   "metadata": {},
   "outputs": [],
   "source": [
    "highest_subject = marks.max(axis=0)\n",
    "print(\"\\nHighest marks in each subject:\", highest_subject)"
   ]
  },
  {
   "cell_type": "code",
   "execution_count": null,
   "id": "5e0bda31",
   "metadata": {},
   "outputs": [],
   "source": [
    "topper_index = np.argmax(total_marks)\n",
    "print(\"\\nTopper is Student\", topper_index+1, \"with\", total_marks[topper_index], \"marks\")"
   ]
  },
  {
   "cell_type": "code",
   "execution_count": null,
   "id": "3d2901ba",
   "metadata": {},
   "outputs": [],
   "source": [
    "class_avg = marks.mean()\n",
    "print(\"\\nClass Average:\", class_avg)"
   ]
  }
 ],
 "metadata": {
  "kernelspec": {
   "display_name": "Python [conda env:base] *",
   "language": "python",
   "name": "conda-base-py"
  },
  "language_info": {
   "codemirror_mode": {
    "name": "ipython",
    "version": 3
   },
   "file_extension": ".py",
   "mimetype": "text/x-python",
   "name": "python",
   "nbconvert_exporter": "python",
   "pygments_lexer": "ipython3",
   "version": "3.13.5"
  }
 },
 "nbformat": 4,
 "nbformat_minor": 5
}
